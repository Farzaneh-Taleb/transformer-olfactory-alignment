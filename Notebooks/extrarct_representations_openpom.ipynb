{
 "cells": [
  {
   "cell_type": "markdown",
   "metadata": {
    "pycharm": {
     "name": "#%% md\n"
    }
   },
   "source": [
    "### Example script for training MPNN-POM model"
   ]
  },
  {
   "metadata": {
    "ExecuteTime": {
     "end_time": "2024-07-03T07:57:18.967452Z",
     "start_time": "2024-07-03T07:57:18.963338Z"
    }
   },
   "cell_type": "code",
   "source": [
    "import sys\n",
    "import warnings\n",
    "warnings.filterwarnings('ignore')"
   ],
   "execution_count": 5,
   "outputs": []
  },
  {
   "metadata": {
    "ExecuteTime": {
     "end_time": "2024-07-03T07:57:19.348366Z",
     "start_time": "2024-07-03T07:57:19.345744Z"
    }
   },
   "cell_type": "code",
   "source": "",
   "execution_count": 5,
   "outputs": []
  },
  {
   "metadata": {
    "ExecuteTime": {
     "end_time": "2024-07-03T07:57:19.548024Z",
     "start_time": "2024-07-03T07:57:19.544006Z"
    }
   },
   "cell_type": "code",
   "source": [
    "parent_dir = \"/Midgard/home/farzantn/phd/Olfaction/MoLFormer_N2024\"\n",
    "sys.path.append(parent_dir)\n",
    "parent_dir=\"/Midgard/home/farzantn/mambaforge/envs/MolTran_CUDA11_cuda/lib/python3.8\"\n",
    "sys.path.append(parent_dir)"
   ],
   "execution_count": 6,
   "outputs": []
  },
  {
   "cell_type": "code",
   "metadata": {
    "collapsed": false,
    "jupyter": {
     "outputs_hidden": false
    },
    "pycharm": {
     "is_executing": true,
     "name": "#%%\n"
    },
    "ExecuteTime": {
     "end_time": "2024-07-03T07:57:19.719072Z",
     "start_time": "2024-07-03T07:57:19.711393Z"
    }
   },
   "source": [
    "import deepchem as dc\n",
    "import os\n",
    "os.environ['TF_ENABLE_MLIR_OPTIMIZATIONS'] = '1'\n",
    "from openpom.feat.graph_featurizer import GraphFeaturizer, GraphConvConstants\n",
    "from openpom.utils.data_utils import get_class_imbalance_ratio\n",
    "from openpom.models.mpnn_pom import MPNNPOMModel\n",
    "import numpy as np\n",
    "import random\n",
    "import torch\n",
    "import pandas as pd\n",
    "from constants import *"
   ],
   "execution_count": 7,
   "outputs": []
  },
  {
   "cell_type": "code",
   "metadata": {
    "ExecuteTime": {
     "end_time": "2024-07-03T07:57:19.889720Z",
     "start_time": "2024-07-03T07:57:19.880090Z"
    }
   },
   "source": [
    "seed = 2024\n",
    "torch.manual_seed(seed)\n",
    "torch.cuda.manual_seed(seed)\n",
    "np.random.seed(seed)\n",
    "random.seed(seed)\n",
    "torch.cuda.manual_seed_all(seed)\n",
    "# set_seeds(2024)"
   ],
   "execution_count": 8,
   "outputs": []
  },
  {
   "metadata": {
    "ExecuteTime": {
     "end_time": "2024-07-03T07:57:20.400511Z",
     "start_time": "2024-07-03T07:57:20.396924Z"
    }
   },
   "cell_type": "code",
   "source": "base_path = '/local_storage/datasets/farzaneh/alignment_olfaction_datasets'",
   "execution_count": 9,
   "outputs": []
  },
  {
   "cell_type": "code",
   "metadata": {
    "ExecuteTime": {
     "end_time": "2024-07-03T07:57:20.623781Z",
     "start_time": "2024-07-03T07:57:20.617307Z"
    }
   },
   "source": [
    "def convert_todf_openpom(embeddings_dataset,cids,subjects=None,y=None):\n",
    "    embeddings_dataset = pd.DataFrame(embeddings_dataset)\n",
    "    embeddings_dataset['embeddings'] = embeddings_dataset.loc[:, 0:768].values.tolist()\n",
    "    embeddings_dataset['CID'] = cids\n",
    "    if subjects is not None:\n",
    "        embeddings_dataset['subject'] = subjects\n",
    "    if y is not None:\n",
    "        y_dataset = pd.DataFrame(y)\n",
    "        y_dataset['y'] = y_dataset.loc[:, 0:256].values.tolist()\n",
    "    \n",
    "        df = pd.concat([embeddings_dataset, y_dataset], axis=1)\n",
    "        return df\n",
    "    else:\n",
    "        return embeddings_dataset"
   ],
   "execution_count": 10,
   "outputs": []
  },
  {
   "cell_type": "code",
   "metadata": {
    "ExecuteTime": {
     "end_time": "2024-07-03T07:57:21.143319Z",
     "start_time": "2024-07-03T07:57:21.138248Z"
    }
   },
   "source": [
    "\n",
    "def embed_mols(input_file):\n",
    "    # get dataset\n",
    "    # print(os.getcwd())\n",
    "    featurizer = GraphFeaturizer()\n",
    "    smiles_field = 'nonStereoSMILES'\n",
    "    loader = dc.data.CSVLoader(tasks=[],\n",
    "                       feature_field=smiles_field,\n",
    "                       featurizer=featurizer)\n",
    "    dataset = loader.create_dataset(inputs=[input_file])\n",
    "    \n",
    "    embeddings=model.predict_embedding(dataset)\n",
    "    return embeddings,dataset"
   ],
   "execution_count": 11,
   "outputs": []
  },
  {
   "cell_type": "code",
   "metadata": {
    "ExecuteTime": {
     "end_time": "2024-07-03T07:57:21.298982Z",
     "start_time": "2024-07-03T07:57:21.294276Z"
    }
   },
   "source": [
    "def postproce_molembeddings(embeddings,index):\n",
    "    # molecules_embeddings_penultimate = torch.cat(embeddings)\n",
    "    df_molecules_embeddings = pd.DataFrame(embeddings, index=index)\n",
    "    df_molecules_embeddings['Combined'] = df_molecules_embeddings.loc[:, '0':'767'].values.tolist()\n",
    "    df_molecules_embeddings=df_molecules_embeddings.reset_index()\n",
    "    return(df_molecules_embeddings)"
   ],
   "execution_count": 12,
   "outputs": []
  },
  {
   "cell_type": "code",
   "metadata": {
    "collapsed": false,
    "jupyter": {
     "outputs_hidden": false
    },
    "pycharm": {
     "is_executing": true,
     "name": "#%%\n"
    },
    "ExecuteTime": {
     "end_time": "2024-07-03T07:57:21.450325Z",
     "start_time": "2024-07-03T07:57:21.444903Z"
    }
   },
   "source": [
    "def prepare_mols_helper(input_file,tasks,mol_type=\"nonStereoSMILES\",index=\"cid\"):\n",
    "    featurizer = GraphFeaturizer()\n",
    "    # smiles_field = 'nonStereoSMILES'\n",
    "    loader = dc.data.CSVLoader(tasks=tasks,\n",
    "                   feature_field=mol_type,\n",
    "                   featurizer=featurizer\n",
    "                          )\n",
    "    dataset = loader.create_dataset(inputs=[input_file])\n",
    "    df_mols = pd.read_csv(input_file)\n",
    "    print(df_mols.columns)\n",
    "\n",
    "    df_mols_embeddings_original=model.predict_embedding(dataset)\n",
    "    return df_mols_embeddings_original,dataset"
   ],
   "execution_count": 13,
   "outputs": []
  },
  {
   "cell_type": "code",
   "metadata": {
    "collapsed": false,
    "jupyter": {
     "outputs_hidden": false
    },
    "pycharm": {
     "name": "#%%\n"
    },
    "ExecuteTime": {
     "end_time": "2024-07-03T07:57:21.603668Z",
     "start_time": "2024-07-03T07:57:21.600157Z"
    }
   },
   "source": [
    "# download curated dataset\n",
    "# !wget https://raw.githubusercontent.com/ARY2260/openpom/main/openpom/data/curated_datasets/curated_GS_LF_merged_4983.csv\n",
    "\n",
    "# The curated dataset can also found at `openpom/data/curated_datasets/curated_GS_LF_merged_4983.csv` in the repo.\n",
    "\n",
    "input_file = '/local_storage/datasets/farzaneh/openpom/data/curated_datasets/curated_GS_LF_merged_4983.csv' # or new downloaded file path"
   ],
   "execution_count": 14,
   "outputs": []
  },
  {
   "cell_type": "code",
   "metadata": {
    "ExecuteTime": {
     "end_time": "2024-07-03T07:57:21.804067Z",
     "start_time": "2024-07-03T07:57:21.747523Z"
    }
   },
   "source": [
    "df_gslf = pd.read_csv(input_file)"
   ],
   "execution_count": 15,
   "outputs": []
  },
  {
   "cell_type": "code",
   "metadata": {
    "ExecuteTime": {
     "end_time": "2024-07-03T07:57:22.169251Z",
     "start_time": "2024-07-03T07:57:22.166573Z"
    }
   },
   "source": [],
   "execution_count": 15,
   "outputs": []
  },
  {
   "cell_type": "code",
   "metadata": {
    "pycharm": {
     "name": "#%%\n"
    },
    "ExecuteTime": {
     "end_time": "2024-07-03T07:57:27.492550Z",
     "start_time": "2024-07-03T07:57:22.698001Z"
    }
   },
   "source": [
    "# get dataset\n",
    "print(os.getcwd())\n",
    "featurizer = GraphFeaturizer()\n",
    "smiles_field = 'nonStereoSMILES'\n",
    "loader = dc.data.CSVLoader(tasks=gs_lf_tasks,\n",
    "                   feature_field=smiles_field,\n",
    "                   featurizer=featurizer)\n",
    "dataset = loader.create_dataset(inputs=[input_file])\n",
    "n_tasks = len(dataset.tasks)"
   ],
   "execution_count": 16,
   "outputs": []
  },
  {
   "cell_type": "code",
   "metadata": {
    "pycharm": {
     "name": "#%%\n"
    },
    "ExecuteTime": {
     "end_time": "2024-07-03T07:57:27.717448Z",
     "start_time": "2024-07-03T07:57:27.493659Z"
    }
   },
   "source": [
    "# get train valid test splits\n",
    "\n",
    "randomstratifiedsplitter = dc.splits.RandomStratifiedSplitter()\n",
    "train_dataset, valid_dataset, test_dataset = randomstratifiedsplitter.train_valid_test_split(dataset, frac_train = 0.8, frac_valid = 0.1, frac_test = 0.1, seed = seed)"
   ],
   "execution_count": 17,
   "outputs": []
  },
  {
   "cell_type": "code",
   "metadata": {
    "pycharm": {
     "name": "#%%\n"
    },
    "ExecuteTime": {
     "end_time": "2024-07-03T07:57:27.770162Z",
     "start_time": "2024-07-03T07:57:27.718317Z"
    }
   },
   "source": [
    "\n",
    "train,valid,test=randomstratifiedsplitter.split(dataset, frac_train = 0.8, frac_valid = 0.1, frac_test = 0.1, seed = seed)"
   ],
   "execution_count": 18,
   "outputs": []
  },
  {
   "cell_type": "code",
   "metadata": {
    "ExecuteTime": {
     "end_time": "2024-07-03T07:57:27.780269Z",
     "start_time": "2024-07-03T07:57:27.771283Z"
    }
   },
   "source": [
    "df_train_valid_test = pd.DataFrame({'main_idx': train + valid + test,\n",
    "                   'split': ['train'] * len(train) + ['valid'] * len(valid) + ['test'] * len(test)})\n"
   ],
   "execution_count": 19,
   "outputs": []
  },
  {
   "cell_type": "code",
   "metadata": {
    "ExecuteTime": {
     "end_time": "2024-07-03T07:57:27.784004Z",
     "start_time": "2024-07-03T07:57:27.781675Z"
    }
   },
   "source": "",
   "execution_count": 19,
   "outputs": []
  },
  {
   "cell_type": "code",
   "metadata": {
    "ExecuteTime": {
     "end_time": "2024-07-03T07:57:27.786166Z",
     "start_time": "2024-07-03T07:57:27.784739Z"
    }
   },
   "source": "",
   "execution_count": 19,
   "outputs": []
  },
  {
   "cell_type": "code",
   "metadata": {
    "ExecuteTime": {
     "end_time": "2024-07-03T07:57:38.699818Z",
     "start_time": "2024-07-03T07:57:27.786879Z"
    }
   },
   "source": [
    "for i in range(len(train)):\n",
    "    if not np.array_equal(train_dataset.y[i],dataset.y[train[i]]):\n",
    "        print(i)\n",
    "\n",
    "for i in range(len(valid)):\n",
    "    if not np.array_equal(valid_dataset.y[i],dataset.y[valid[i]]):\n",
    "        print(i)\n",
    "\n",
    "for i in range(len(test)):\n",
    "    if not np.array_equal(test_dataset.y[i],dataset.y[test[i]]):\n",
    "        print(i)\n",
    "\n",
    "\n",
    "for i in range(len(train)):\n",
    "    if not np.array_equal(train_dataset.y[i],df_gslf.iloc[train[i]].values[2:].tolist()):\n",
    "        print(i)\n",
    "\n",
    "for i in range(len(valid)):\n",
    "    if not np.array_equal(valid_dataset.y[i],df_gslf.iloc[valid[i]].values[2:].tolist()):\n",
    "        print(i)\n",
    "\n",
    "for i in range(len(test)):\n",
    "    if not np.array_equal(test_dataset.y[i],df_gslf.iloc[test[i]].values[2:].tolist()):\n",
    "        print(i)\n",
    "        "
   ],
   "execution_count": 20,
   "outputs": []
  },
  {
   "cell_type": "code",
   "metadata": {
    "pycharm": {
     "name": "#%%\n"
    },
    "ExecuteTime": {
     "end_time": "2024-07-03T07:57:38.707533Z",
     "start_time": "2024-07-03T07:57:38.700920Z"
    }
   },
   "source": [
    "train_ratios = get_class_imbalance_ratio(train_dataset)\n",
    "assert len(train_ratios) == n_tasks"
   ],
   "execution_count": 21,
   "outputs": []
  },
  {
   "cell_type": "code",
   "metadata": {
    "ExecuteTime": {
     "end_time": "2024-07-03T07:57:38.715398Z",
     "start_time": "2024-07-03T07:57:38.708299Z"
    }
   },
   "source": [
    "train_dataset.y"
   ],
   "execution_count": 22,
   "outputs": []
  },
  {
   "cell_type": "code",
   "metadata": {
    "pycharm": {
     "name": "#%%\n"
    },
    "ExecuteTime": {
     "end_time": "2024-07-03T07:57:38.719636Z",
     "start_time": "2024-07-03T07:57:38.717337Z"
    }
   },
   "source": [
    "# learning_rate = ExponentialDecay(initial_rate=0.001, decay_rate=0.5, decay_steps=32*15, staircase=True)\n",
    "learning_rate = 0.001"
   ],
   "execution_count": 23,
   "outputs": []
  },
  {
   "cell_type": "code",
   "metadata": {
    "pycharm": {
     "name": "#%%\n"
    },
    "ExecuteTime": {
     "end_time": "2024-07-03T08:00:31.729662Z",
     "start_time": "2024-07-03T08:00:31.660983Z"
    }
   },
   "source": [
    "# initialize model\n",
    "device_name = 'cuda'\n",
    "model = MPNNPOMModel(n_tasks = n_tasks,\n",
    "                            batch_size=128,\n",
    "                            learning_rate=learning_rate,\n",
    "                            class_imbalance_ratio = train_ratios,\n",
    "                            loss_aggr_type = 'sum',\n",
    "                            node_out_feats = 100,\n",
    "                            edge_hidden_feats = 75,\n",
    "                            edge_out_feats = 100,\n",
    "                            num_step_message_passing = 5,\n",
    "                            mpnn_residual = True,\n",
    "                            message_aggregator_type = 'sum',\n",
    "                            mode = 'classification',\n",
    "                            number_atom_features = GraphConvConstants.ATOM_FDIM,\n",
    "                            number_bond_features = GraphConvConstants.BOND_FDIM,\n",
    "                            n_classes = 1,\n",
    "                            readout_type = 'set2set',\n",
    "                            num_step_set2set = 3,\n",
    "                            num_layer_set2set = 2,\n",
    "                            ffn_hidden_list= [392, 392],\n",
    "                            ffn_embeddings = 256,\n",
    "                            ffn_activation = 'relu',\n",
    "                            ffn_dropout_p = 0.12,\n",
    "                            ffn_dropout_at_input_no_act = False,\n",
    "                            weight_decay = 1e-5,\n",
    "                            self_loop = False,\n",
    "                            optimizer_name = 'adam',\n",
    "                            log_frequency = 32,\n",
    "                            model_dir = '../examples/experiments',\n",
    "                            device_name=device_name)"
   ],
   "execution_count": 31,
   "outputs": []
  },
  {
   "cell_type": "code",
   "metadata": {
    "pycharm": {
     "name": "#%%\n"
    },
    "ExecuteTime": {
     "end_time": "2024-07-03T08:00:32.275195Z",
     "start_time": "2024-07-03T08:00:32.271677Z"
    }
   },
   "source": [
    "nb_epoch = 150"
   ],
   "execution_count": 32,
   "outputs": []
  },
  {
   "cell_type": "code",
   "metadata": {
    "pycharm": {
     "name": "#%%\n"
    },
    "ExecuteTime": {
     "end_time": "2024-07-03T08:00:32.682713Z",
     "start_time": "2024-07-03T08:00:32.679127Z"
    }
   },
   "source": [
    "metric = dc.metrics.Metric(dc.metrics.roc_auc_score)\n"
   ],
   "execution_count": 33,
   "outputs": []
  },
  {
   "cell_type": "code",
   "metadata": {
    "ExecuteTime": {
     "end_time": "2024-07-03T08:00:36.388889Z",
     "start_time": "2024-07-03T08:00:36.383548Z"
    }
   },
   "source": "model.model_dir",
   "execution_count": 34,
   "outputs": []
  },
  {
   "cell_type": "code",
   "metadata": {
    "pycharm": {
     "name": "#%%\n"
    },
    "ExecuteTime": {
     "end_time": "2024-07-03T08:00:37.310119Z",
     "start_time": "2024-07-03T08:00:37.307384Z"
    }
   },
   "source": "",
   "execution_count": 34,
   "outputs": []
  },
  {
   "cell_type": "code",
   "metadata": {
    "ExecuteTime": {
     "end_time": "2024-07-03T08:00:37.591031Z",
     "start_time": "2024-07-03T08:00:37.542423Z"
    }
   },
   "source": [
    "model.load_from_pretrained(model)"
   ],
   "execution_count": 35,
   "outputs": []
  },
  {
   "cell_type": "code",
   "metadata": {
    "pycharm": {
     "name": "#%%\n"
    },
    "ExecuteTime": {
     "end_time": "2024-07-03T08:00:45.123246Z",
     "start_time": "2024-07-03T08:00:44.262901Z"
    }
   },
   "source": [
    "test_scores = model.evaluate(test_dataset, [metric])['roc_auc_score']\n",
    "# print(\"time_taken: \", str(end_time-start_time))\n",
    "print(\"test_score: \", test_scores)"
   ],
   "execution_count": 36,
   "outputs": []
  },
  {
   "cell_type": "code",
   "metadata": {
    "ExecuteTime": {
     "end_time": "2024-07-03T08:00:49.069312Z",
     "start_time": "2024-07-03T08:00:49.066306Z"
    }
   },
   "source": [],
   "execution_count": 36,
   "outputs": []
  },
  {
   "cell_type": "markdown",
   "metadata": {},
   "source": [
    "## Extracting embeddings"
   ]
  },
  {
   "cell_type": "markdown",
   "metadata": {},
   "source": [
    "## GS-LF"
   ]
  },
  {
   "cell_type": "code",
   "execution_count": 32,
   "metadata": {},
   "source": [
    "embeddings_dataset=model.predict_embedding(dataset)"
   ],
   "outputs": []
  },
  {
   "cell_type": "code",
   "execution_count": 36,
   "metadata": {},
   "source": [
    "cids_gslf= df_gslf.index.values.tolist()"
   ],
   "outputs": []
  },
  {
   "cell_type": "code",
   "execution_count": 44,
   "metadata": {},
   "source": [
    "df_embeddings = convert_todf_openpom(embeddings_dataset,cids_gslf,None,dataset.y)\n",
    "df_embeddings.to_csv('gslf_pom_embeddings_Apr17.csv', index=False)"
   ],
   "outputs": []
  },
  {
   "cell_type": "code",
   "execution_count": 45,
   "metadata": {},
   "source": [
    "# df_embeddings17.head(5)"
   ],
   "outputs": []
  },
  {
   "cell_type": "markdown",
   "metadata": {},
   "source": [
    "### Sagar"
   ]
  },
  {
   "cell_type": "code",
   "execution_count": 32,
   "metadata": {},
   "source": [
    "\n",
    "input_file_sagar= '/local_storage/datasets/farzaneh/openpom/data/curated_datasets/curated_sagar_subjects_nonaminus.csv'\n",
    "df_sagar_temp=pd.read_csv(input_file_sagar)\n",
    "cids_sagar= df_sagar_temp['cid'].values.tolist()\n",
    "subjects_sagar= df_sagar_temp['subject'].values.tolist()\n",
    "sagar_tasks= df_sagar_temp.columns.to_list()[1:16]\n",
    "df_mols_embeddings_original,sagar_dataset=prepare_mols_helper(input_file_sagar,sagar_tasks)"
   ],
   "outputs": []
  },
  {
   "cell_type": "code",
   "execution_count": 33,
   "metadata": {},
   "source": [
    "df_sagar_temp"
   ],
   "outputs": []
  },
  {
   "cell_type": "code",
   "execution_count": 34,
   "metadata": {},
   "source": [
    "df_embeddings_sagar = convert_todf_openpom(df_mols_embeddings_original,cids_sagar,subjects_sagar,sagar_dataset.y)\n",
    "df_embeddings_sagar.to_csv('sagar_pom_embeddings_Apr17.csv', index=False)"
   ],
   "outputs": []
  },
  {
   "cell_type": "markdown",
   "metadata": {},
   "source": [
    "### Keller"
   ]
  },
  {
   "cell_type": "code",
   "execution_count": 37,
   "metadata": {},
   "source": [
    "input_file_keller= '/local_storage/datasets/farzaneh/openpom/data/curated_datasets/curated_keller2016_nona.csv'\n",
    "df_keller_temp=pd.read_csv(input_file_keller)\n",
    "keller_tasks= df_keller_temp.columns.to_list()[5:]\n",
    "cids_keller= df_keller_temp['CID'].values.tolist()\n",
    "subjects_keller= df_keller_temp['Subject'].values.tolist()\n",
    "df_mols_embeddings_original_keller,keller_dataset=prepare_mols_helper(input_file_keller,keller_tasks,index=\"CID\")"
   ],
   "outputs": []
  },
  {
   "cell_type": "code",
   "execution_count": 38,
   "metadata": {},
   "source": [
    "df_embeddings_keller = convert_todf_openpom(df_mols_embeddings_original_keller,cids_keller,subjects_keller,keller_dataset.y)\n",
    "df_embeddings_keller.to_csv('keller_pom_embeddings_Apr17.csv', index=False)"
   ],
   "outputs": []
  },
  {
   "cell_type": "markdown",
   "metadata": {},
   "source": [
    "### Ravia"
   ]
  },
  {
   "cell_type": "code",
   "execution_count": 52,
   "metadata": {},
   "source": [
    "input_file_ravia = '/local_storage/datasets/farzaneh/openpom/data/curated_datasets/ravia_molecules.csv'\n",
    "df_ravia_temp=pd.read_csv(input_file_ravia)\n",
    "embeddings_ravia,dataset=embed_mols(input_file_ravia)\n",
    "cids_ravia= df_ravia_temp['CID'].values.tolist()\n",
    "df_embeddings_ravia = convert_todf_openpom(embeddings_ravia,cids_ravia)\n",
    "df_embeddings_ravia.to_csv('ravia_pom_embeddings_Apr17.csv', index=False)"
   ],
   "outputs": []
  },
  {
   "cell_type": "markdown",
   "metadata": {},
   "source": [
    "### Snitz"
   ]
  },
  {
   "cell_type": "code",
   "execution_count": 54,
   "metadata": {},
   "source": [
    "input_file_snitz = '/local_storage/datasets/farzaneh/openpom/data/curated_datasets/snitz_molecules.csv'\n",
    "df_snitz_temp=pd.read_csv(input_file_snitz)\n",
    "embeddings_snitz,dataset=embed_mols(input_file_snitz)\n",
    "cids_snitz= df_snitz_temp['CID'].values.tolist()\n",
    "df_embeddings_snitz = convert_todf_openpom(embeddings_snitz,cids_snitz)\n",
    "df_embeddings_snitz.to_csv('snitz_pom_embeddings_Apr17.csv', index=False)"
   ],
   "outputs": []
  },
  {
   "metadata": {
    "ExecuteTime": {
     "end_time": "2024-07-03T07:41:53.562635Z",
     "start_time": "2024-07-03T07:41:53.550023Z"
    }
   },
   "cell_type": "code",
   "source": [
    "input_file_snitz = base_path + '/curated_datasets/mols_datasets/snitz_molecules.csv'\n",
    "df_snitz_temp=pd.read_csv(input_file_snitz)\n",
    "df_snitz_temp.columns.values.tolist()\n"
   ],
   "execution_count": 40,
   "outputs": []
  },
  {
   "metadata": {
    "ExecuteTime": {
     "end_time": "2024-07-03T07:47:40.057952Z",
     "start_time": "2024-07-03T07:47:40.017067Z"
    }
   },
   "cell_type": "code",
   "source": [
    "input_file_dra = base_path + '/curated_datasets/tasks/dravnieks1985_applicability_1.csv'\n",
    "df_dra_temp=pd.read_csv(input_file_dra)\n",
    "df_draviensk_temp=pd.read_csv(input_file_dra)\n",
    "print(len(df_draviensk_temp))\n",
    "df_draviensk_temp = df_draviensk_temp.drop_duplicates(subset=['CID'])\n",
    "print(len(df_draviensk_temp))\n",
    "df_draviensk_temp.to_csv(base_path+'/curated_datasets/mols_datasets/dravnieks1985_applicability_1_molecules.csv', index=False)"
   ],
   "execution_count": 50,
   "outputs": []
  },
  {
   "metadata": {},
   "cell_type": "markdown",
   "source": "#### Draviensk"
  },
  {
   "metadata": {
    "ExecuteTime": {
     "end_time": "2024-07-03T08:02:42.086200Z",
     "start_time": "2024-07-03T08:02:41.809221Z"
    }
   },
   "cell_type": "code",
   "source": [
    "input_file_draviensk = base_path+'/curated_datasets/mols_datasets/dravnieks1985_applicability_1_molecules.csv'\n",
    "df_draviensk_temp=pd.read_csv(input_file_draviensk)\n",
    "embeddings_draviensk,dataset=embed_mols(input_file_draviensk)\n",
    "cids_draviensk= df_draviensk_temp['CID'].values.tolist()\n",
    "df_embeddings_draviensk = convert_todf_openpom(embeddings_draviensk,cids_draviensk)\n",
    "df_embeddings_draviensk.to_csv(base_path+'/curated_datasets/embeddings/pom/dravnieks1985_applicability_1_pom_embeddings_Apr17.csv', index=False)"
   ],
   "execution_count": 39,
   "outputs": []
  },
  {
   "metadata": {},
   "cell_type": "code",
   "execution_count": null,
   "source": "",
   "outputs": []
  }
 ],
 "metadata": {
  "kernelspec": {
   "display_name": "Python 3 (ipykernel)",
   "language": "python",
   "name": "python3"
  },
  "language_info": {
   "codemirror_mode": {
    "name": "ipython",
    "version": 3
   },
   "file_extension": ".py",
   "mimetype": "text/x-python",
   "name": "python",
   "nbconvert_exporter": "python",
   "pygments_lexer": "ipython3",
   "version": "3.8.18"
  }
 },
 "nbformat": 4,
 "nbformat_minor": 4
}
